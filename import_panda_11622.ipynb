{
  "nbformat": 4,
  "nbformat_minor": 0,
  "metadata": {
    "colab": {
      "name": "import panda_11622",
      "private_outputs": true,
      "provenance": [],
      "authorship_tag": "ABX9TyMvyaQBJm2Rnl6OQ1RlIHYH",
      "include_colab_link": true
    },
    "kernelspec": {
      "name": "python3",
      "display_name": "Python 3"
    },
    "language_info": {
      "name": "python"
    }
  },
  "cells": [
    {
      "cell_type": "markdown",
      "metadata": {
        "id": "view-in-github",
        "colab_type": "text"
      },
      "source": [
        "<a href=\"https://colab.research.google.com/github/silvapy/Pepp--Assignments-/blob/Laina-main/import_panda_11622.ipynb\" target=\"_parent\"><img src=\"https://colab.research.google.com/assets/colab-badge.svg\" alt=\"Open In Colab\"/></a>"
      ]
    },
    {
      "cell_type": "code",
      "source": [
        "import pandas as pd\n",
        "url = 'https://raw.githubusercontent.com/ArashVafa/DESC624/master/bank_marketing_training'\n",
        "\n",
        "bank_train = pd.read_csv(url)\n",
        "\n",
        "bank_train.head(10)"
      ],
      "metadata": {
        "id": "WGpomoAysidT"
      },
      "execution_count": null,
      "outputs": []
    },
    {
      "cell_type": "code",
      "source": [
        "bank_train.shape"
      ],
      "metadata": {
        "id": "k8GImDyMs0ud"
      },
      "execution_count": null,
      "outputs": []
    },
    {
      "cell_type": "code",
      "source": [
        "bank_train['index'] = pd.Series(range(0,26874))\n",
        "bank_train.head(10)"
      ],
      "metadata": {
        "id": "EsoaFfTVtRYj"
      },
      "execution_count": null,
      "outputs": []
    }
  ]
}